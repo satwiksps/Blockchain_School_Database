{
 "cells": [
  {
   "cell_type": "markdown",
   "id": "22df6cbf",
   "metadata": {},
   "source": [
    "# Blockchain for School Marks\n",
    "\n",
    "This notebook demonstrates the creation of a simple blockchain to store school marks. Each student's data is represented as a block in the blockchain."
   ]
  },
  {
   "cell_type": "code",
   "execution_count": null,
   "id": "98a1b26f",
   "metadata": {},
   "outputs": [],
   "source": [
    "# Import necessary libraries\n",
    "import hashlib as hasher  # For hashing block data\n",
    "import datetime as date   # For timestamping blocks\n",
    "import pandas as pd       # For handling student marks data\n",
    "import os                 # For file operations"
   ]
  },
  {
   "cell_type": "code",
   "execution_count": null,
   "id": "12a5ea59",
   "metadata": {},
   "outputs": [],
   "source": [
    "# Load the CSV file containing marks data\n",
    "# Provide a valid path or place the CSV in the same directory as this notebook\n",
    "file_name = \"Marks.csv\"\n",
    "\n",
    "if os.path.exists(file_name):\n",
    "    df = pd.read_csv(file_name)  # Load CSV into a DataFrame\n",
    "    print(\"Marks data loaded successfully!\\n\")\n",
    "    print(df.head())  # Display the first few rows for confirmation\n",
    "else:\n",
    "    raise FileNotFoundError(f\"The file {file_name} was not found. Ensure it is in the correct directory.\")"
   ]
  },
  {
   "cell_type": "code",
   "execution_count": null,
   "id": "29cd6480",
   "metadata": {},
   "outputs": [],
   "source": [
    "# Define the Block class\n",
    "class Block:\n",
    "    def __init__(self, index, timestamp, data, previous_hash):\n",
    "        \"\"\"\n",
    "        Initialize a blockchain block.\n",
    "        :param index: Position of the block in the chain\n",
    "        :param timestamp: Time of block creation\n",
    "        :param data: Block data (student marks)\n",
    "        :param previous_hash: Hash of the previous block\n",
    "        \"\"\"\n",
    "        self.index = index\n",
    "        self.timestamp = timestamp\n",
    "        self.data = data\n",
    "        self.previous_hash = previous_hash\n",
    "        self.hash = self.hash_block()\n",
    "    \n",
    "    def hash_block(self):\n",
    "        \"\"\"Generate a SHA-256 hash for the block.\"\"\"\n",
    "        sha = hasher.sha256()\n",
    "        sha.update((str(self.index) + str(self.timestamp) +\n",
    "                    str(self.data) + str(self.previous_hash)).encode('utf-8'))\n",
    "        return sha.hexdigest()\n",
    "\n",
    "# Blockchain utility functions\n",
    "def create_genesis_block():\n",
    "    \"\"\"Create the first block in the blockchain.\"\"\"\n",
    "    return Block(0, date.datetime.now(), \"Genesis Block\", \"0\")\n",
    "\n",
    "def next_block(last_block, block_data):\n",
    "    \"\"\"Create the next block in the blockchain.\"\"\"\n",
    "    this_index = last_block.index + 1\n",
    "    this_timestamp = date.datetime.now()\n",
    "    this_hash = last_block.hash\n",
    "    return Block(this_index, this_timestamp, block_data, this_hash)"
   ]
  },
  {
   "cell_type": "code",
   "execution_count": null,
   "id": "c604cdf0",
   "metadata": {},
   "outputs": [],
   "source": [
    "# Create blockchain and add blocks\n",
    "blockchain = [create_genesis_block()]  # Initialize with the genesis block\n",
    "previous_block = blockchain[0]  # Reference to the last block\n",
    "\n",
    "print(\"Adding blocks to the blockchain:\\n\")\n",
    "\n",
    "# Add each row of marks data as a block\n",
    "for i, row in df.iterrows():\n",
    "    student_data = row.to_dict()  # Convert row to dictionary\n",
    "    block_data = f\"Student Record: {student_data}\"  # Prepare block data\n",
    "    block_to_add = next_block(previous_block, block_data)  # Create new block\n",
    "    blockchain.append(block_to_add)  # Append to blockchain\n",
    "    previous_block = block_to_add  # Update reference\n",
    "    print(f\"Block #{block_to_add.index} added with hash: {block_to_add.hash}\")"
   ]
  },
  {
   "cell_type": "code",
   "execution_count": null,
   "id": "b4bfbbf4",
   "metadata": {},
   "outputs": [],
   "source": [
    "# Visualize the blockchain\n",
    "# Display block details in a DataFrame\n",
    "blockchain_data = [{\n",
    "    \"Index\": block.index,\n",
    "    \"Timestamp\": block.timestamp,\n",
    "    \"Data\": block.data,\n",
    "    \"Previous Hash\": block.previous_hash,\n",
    "    \"Hash\": block.hash\n",
    "} for block in blockchain]\n",
    "\n",
    "# Convert to DataFrame and display\n",
    "blockchain_df = pd.DataFrame(blockchain_data)\n",
    "print(\"\\nBlockchain Overview:\")\n",
    "blockchain_df"
   ]
  },
  {
   "cell_type": "code",
   "execution_count": null,
   "id": "1c1ee57a",
   "metadata": {},
   "outputs": [],
   "source": [
    "def search_student_by_name(name):\n",
    "    \"\"\"\n",
    "    Search for all entries of a student by name in the blockchain and display their marks.\n",
    "    \"\"\"\n",
    "    found = False\n",
    "    print(f\"Searching for records of student: {name}\\n\" + \"-\"*50)\n",
    "    for block in blockchain.chain:\n",
    "        data = block.data\n",
    "        if data.get(\"student_name\", \"\").lower() == name.lower():\n",
    "            found = True\n",
    "            print(f\"Block #{block.index} | Subject: {data.get('subject')} | Marks: {data.get('marks')} | Time: {block.timestamp}\")\n",
    "    if not found:\n",
    "        print(\"No records found for this student.\")\n",
    "\n",
    "# Example usage\n",
    "# search_student_by_name(\"Alice\")"
   ]
  },
  {
   "cell_type": "code",
   "execution_count": null,
   "id": "e104723c",
   "metadata": {},
   "outputs": [],
   "source": [
    "# Load the CSV\n",
    "df = pd.read_csv(\"Marks.csv\")\n",
    "\n",
    "# Check if required columns are there\n",
    "required_columns = {\"Student\", \"Subject\", \"Marks\", \"Exam\"}\n",
    "if not required_columns.issubset(df.columns):\n",
    "    raise ValueError(f\"CSV file must contain the columns: {required_columns}\")\n",
    "\n",
    "# Calculate average marks per student\n",
    "student_avg = df.groupby(\"Student\")[\"Marks\"].mean().reset_index()\n",
    "student_avg.rename(columns={\"Marks\": \"Average_Marks\"}, inplace=True)\n",
    "\n",
    "# Merge average with original data\n",
    "df_with_avg = pd.merge(df, student_avg, on=\"Student\")\n",
    "\n",
    "# Compare current marks with student average\n",
    "df_with_avg[\"Performance_Trend\"] = df_with_avg.apply(\n",
    "    lambda row: \"Above Average\" if row[\"Marks\"] > row[\"Average_Marks\"]\n",
    "    else (\"Below Average\" if row[\"Marks\"] < row[\"Average_Marks\"] else \"At Average\"),\n",
    "    axis=1\n",
    ")\n",
    "\n",
    "# Display updated dataframe\n",
    "print(\"Student Performance vs Average:\")\n",
    "display(df_with_avg.sort_values(by=[\"Student\", \"Exam\"]))\n"
   ]
  }
 ],
 "metadata": {
  "language_info": {
   "name": "python"
  }
 },
 "nbformat": 4,
 "nbformat_minor": 5
}
